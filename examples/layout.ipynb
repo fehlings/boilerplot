{
 "cells": [
  {
   "cell_type": "markdown",
   "metadata": {},
   "source": [
    "## Constrained Layout\n",
    "\n",
    "The `constrained_layout` function is enabled by default. In a nutshell, this will always arrange the contents of your figure so that everything fits within the specified figuresize. This is useful in case some labels or colorbars are rendered outside of the initial figure size and get cut. This comes at a cost, which is that your initial axes are redrawn. Hence, two figures with, for example, two different labels will yield different sizes of the axis, as the larger label leads to the algorithm reducing the axes size to make space. This is annoying if you want to put two figures next to each other, as the axes will have different sizes.\n",
    "\n",
    "If you want this to work out:\n",
    "- With `constrained_layout`, use subplots to keep the axes size between plots consistent\n",
    "- Without, pay attention that your labels do not clip out\n",
    "\n",
    "See examples below. Open the saved files to see the difference, as the notebook renderer does not scale it properly."
   ]
  },
  {
   "cell_type": "code",
   "execution_count": 3,
   "metadata": {},
   "outputs": [],
   "source": [
    "import matplotlib as mpl\n",
    "import matplotlib.pyplot as plt\n",
    "import numpy as np\n",
    "import boilerplot\n",
    "\n",
    "mpl.rcParams.update(mpl.rcParamsDefault)"
   ]
  },
  {
   "cell_type": "code",
   "execution_count": 4,
   "metadata": {},
   "outputs": [],
   "source": [
    "x = np.linspace(0, 2*np.pi)\n",
    "\n",
    "with mpl.style.context('boilerplot.ieeetran'):\n",
    "\n",
    "\n",
    "    fig_unconstrained, ax_unconstrained = plt.subplots(figsize=[3.45, 2.3], dpi=200, constrained_layout=False)\n",
    "    ax_unconstrained.plot(x, np.sin(x))\n",
    "    ax_unconstrained.set_title(\"Unconstrained\")\n",
    "    fig_unconstrained.savefig('figures/unconstrained.png')\n",
    "\n",
    "    fig_unconstrained100, ax_unconstrained100 = plt.subplots(figsize=[3.45, 2.3], dpi=200, constrained_layout=False)\n",
    "    ax_unconstrained100.plot(x, 100*np.sin(x))\n",
    "    ax_unconstrained100.set_title(\"Unconstrained100\")\n",
    "    fig_unconstrained100.savefig('figures/unconstrained100.png')\n",
    "    \n",
    "    fig_constrained, ax_constrained = plt.subplots(figsize=[3.45, 2.3], dpi=200)\n",
    "    ax_constrained.plot(x, np.sin(x))\n",
    "    ax_constrained.set_title(\"Constrained\")\n",
    "    fig_constrained.savefig('figures/constrained.png')\n",
    "\n",
    "    fig_constrained100, ax_constrained100 = plt.subplots(figsize=[3.45, 2.3], dpi=200)\n",
    "    ax_constrained100.plot(x, 100*np.sin(x))\n",
    "    ax_constrained100.set_title(\"Constrained100\")\n",
    "    fig_constrained100.savefig('figures/constrained100.png')\n",
    "\n",
    "    fig_subplots, ax_subplots = plt.subplots(2, 1, figsize=[3.45, 2*2.3], dpi=200)\n",
    "    ax_subplots[0].plot(x, np.sin(x))\n",
    "    ax_subplots[1].plot(x, 100*np.sin(x))\n",
    "    ax_subplots[0].set_title(\"With subplots\")\n",
    "    fig_subplots.savefig('figures/subplots.png')"
   ]
  }
 ],
 "metadata": {
  "kernelspec": {
   "display_name": "boilerplot-K9RxsExq-py3.11",
   "language": "python",
   "name": "python3"
  },
  "language_info": {
   "codemirror_mode": {
    "name": "ipython",
    "version": 3
   },
   "file_extension": ".py",
   "mimetype": "text/x-python",
   "name": "python",
   "nbconvert_exporter": "python",
   "pygments_lexer": "ipython3",
   "version": "3.11.5"
  }
 },
 "nbformat": 4,
 "nbformat_minor": 2
}
